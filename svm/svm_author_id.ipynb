{
 "cells": [
  {
   "cell_type": "markdown",
   "metadata": {},
   "source": [
    "# This is the code to accompany the Lesson 2 (SVM) mini-project.\n",
    "\n",
    "# Use a SVM to identify emails from the Enron corpus by their authors:    \n",
    "# Sara has label 0\n",
    "# Chris has label 1T"
   ]
  },
  {
   "cell_type": "code",
   "execution_count": 1,
   "metadata": {},
   "outputs": [
    {
     "name": "stderr",
     "output_type": "stream",
     "text": [
      "/home/ghost/Jupyter/py2/local/lib/python2.7/site-packages/sklearn/cross_validation.py:41: DeprecationWarning: This module was deprecated in version 0.18 in favor of the model_selection module into which all the refactored classes and functions are moved. Also note that the interface of the new CV iterators are different from that of this module. This module will be removed in 0.20.\n",
      "  \"This module will be removed in 0.20.\", DeprecationWarning)\n"
     ]
    }
   ],
   "source": [
    "import sys\n",
    "from time import time\n",
    "sys.path.append(\"../tools/\")\n",
    "from email_preprocess import preprocess"
   ]
  },
  {
   "cell_type": "markdown",
   "metadata": {},
   "source": [
    "### features_train and features_test are the features for the training\n",
    "### and testing datasets, respectively\n",
    "### labels_train and labels_test are the corresponding item labels"
   ]
  },
  {
   "cell_type": "code",
   "execution_count": 2,
   "metadata": {},
   "outputs": [
    {
     "name": "stdout",
     "output_type": "stream",
     "text": [
      "no. of Chris training emails: 7936\n",
      "no. of Sara training emails: 7884\n"
     ]
    }
   ],
   "source": [
    "features_train, features_test, labels_train, labels_test = preprocess()"
   ]
  },
  {
   "cell_type": "code",
   "execution_count": 3,
   "metadata": {},
   "outputs": [
    {
     "name": "stdout",
     "output_type": "stream",
     "text": [
      "training time: 212.292 s\n"
     ]
    }
   ],
   "source": [
    "from sklearn.svm import SVC\n",
    "from sklearn.metrics import accuracy_score\n",
    "clf = SVC(kernel='linear')\n",
    "t0 = time()\n",
    "clf.fit(features_train,labels_train)\n",
    "print \"training time:\", round(time()-t0, 3), \"s\""
   ]
  },
  {
   "cell_type": "code",
   "execution_count": 4,
   "metadata": {},
   "outputs": [
    {
     "name": "stdout",
     "output_type": "stream",
     "text": [
      "prediction time: 22.261 s\n"
     ]
    }
   ],
   "source": [
    "t1 = time()\n",
    "pred = clf.predict(features_test)\n",
    "print \"prediction time:\", round(time()-t1,3), \"s\""
   ]
  },
  {
   "cell_type": "code",
   "execution_count": 5,
   "metadata": {},
   "outputs": [
    {
     "name": "stdout",
     "output_type": "stream",
     "text": [
      "0.984072810011\n"
     ]
    }
   ],
   "source": [
    "accuracy = accuracy_score(labels_test,pred)\n",
    "print accuracy"
   ]
  },
  {
   "cell_type": "markdown",
   "metadata": {},
   "source": [
    "# Reducing training data to 1% of the original"
   ]
  },
  {
   "cell_type": "code",
   "execution_count": 6,
   "metadata": {
    "collapsed": true
   },
   "outputs": [],
   "source": [
    "features_train2 = features_train[:len(features_train)/100]\n",
    "labels_train2 = labels_train[:len(labels_train)/100]"
   ]
  },
  {
   "cell_type": "code",
   "execution_count": 7,
   "metadata": {},
   "outputs": [
    {
     "name": "stdout",
     "output_type": "stream",
     "text": [
      "training time: 0.122 s\n"
     ]
    }
   ],
   "source": [
    "clf2 = SVC(kernel='linear')\n",
    "t2 = time()\n",
    "clf2.fit(features_train2,labels_train2)\n",
    "print \"training time:\", round(time()-t2, 3), \"s\""
   ]
  },
  {
   "cell_type": "code",
   "execution_count": 8,
   "metadata": {},
   "outputs": [
    {
     "name": "stdout",
     "output_type": "stream",
     "text": [
      "prediction time: 1.322 s\n"
     ]
    }
   ],
   "source": [
    "t3 = time()\n",
    "pred2 = clf2.predict(features_test)\n",
    "print \"prediction time:\", round(time()-t3,3), \"s\""
   ]
  },
  {
   "cell_type": "code",
   "execution_count": 9,
   "metadata": {},
   "outputs": [
    {
     "name": "stdout",
     "output_type": "stream",
     "text": [
      "0.884527872582\n"
     ]
    }
   ],
   "source": [
    "accuracy2 = accuracy_score(labels_test,pred2)\n",
    "print accuracy2"
   ]
  },
  {
   "cell_type": "markdown",
   "metadata": {},
   "source": [
    "# Deploying a RBF Kernel"
   ]
  },
  {
   "cell_type": "code",
   "execution_count": 10,
   "metadata": {},
   "outputs": [
    {
     "name": "stdout",
     "output_type": "stream",
     "text": [
      "training time: 0.139 s\n"
     ]
    }
   ],
   "source": [
    "clf3 = SVC()\n",
    "t4 = time()\n",
    "clf3.fit(features_train2, labels_train2)\n",
    "print \"training time:\", round(time()-t4, 3), \"s\""
   ]
  },
  {
   "cell_type": "code",
   "execution_count": 11,
   "metadata": {},
   "outputs": [
    {
     "name": "stdout",
     "output_type": "stream",
     "text": [
      "prediction time: 1.541 s\n"
     ]
    }
   ],
   "source": [
    "t5 = time()\n",
    "pred3 = clf3.predict(features_test)\n",
    "print \"prediction time:\", round(time()-t5,3), \"s\""
   ]
  },
  {
   "cell_type": "code",
   "execution_count": 12,
   "metadata": {},
   "outputs": [
    {
     "name": "stdout",
     "output_type": "stream",
     "text": [
      "0.616040955631\n"
     ]
    }
   ],
   "source": [
    "accuracy3 = accuracy_score(labels_test,pred3)\n",
    "print accuracy3"
   ]
  },
  {
   "cell_type": "markdown",
   "metadata": {},
   "source": [
    "# Tinkering with the parameter C for the RBF Kernel"
   ]
  },
  {
   "cell_type": "code",
   "execution_count": 14,
   "metadata": {},
   "outputs": [
    {
     "name": "stdout",
     "output_type": "stream",
     "text": [
      "0.616040955631\n"
     ]
    }
   ],
   "source": [
    "clf4 = SVC(C=10.0)\n",
    "clf4.fit(features_train2, labels_train2)\n",
    "pred4 = clf4.predict(features_test)\n",
    "accuracy4 = accuracy_score(labels_test,pred4)\n",
    "print accuracy4"
   ]
  },
  {
   "cell_type": "code",
   "execution_count": 17,
   "metadata": {},
   "outputs": [
    {
     "name": "stdout",
     "output_type": "stream",
     "text": [
      "0.616040955631\n"
     ]
    }
   ],
   "source": [
    "clf5 = SVC(C=100.0)\n",
    "clf5.fit(features_train2, labels_train2)\n",
    "pred5 = clf5.predict(features_test)\n",
    "accuracy5 = accuracy_score(labels_test,pred5)\n",
    "print accuracy5"
   ]
  },
  {
   "cell_type": "code",
   "execution_count": 18,
   "metadata": {},
   "outputs": [
    {
     "name": "stdout",
     "output_type": "stream",
     "text": [
      "0.821387940842\n"
     ]
    }
   ],
   "source": [
    "clf6 = SVC(C=1000.0)\n",
    "clf6.fit(features_train2, labels_train2)\n",
    "pred6 = clf6.predict(features_test)\n",
    "accuracy6 = accuracy_score(labels_test,pred6)\n",
    "print accuracy6"
   ]
  },
  {
   "cell_type": "code",
   "execution_count": 19,
   "metadata": {},
   "outputs": [
    {
     "name": "stdout",
     "output_type": "stream",
     "text": [
      "0.892491467577\n"
     ]
    }
   ],
   "source": [
    "clf7 = SVC(C=10000.0)\n",
    "clf7.fit(features_train2, labels_train2)\n",
    "pred7 = clf7.predict(features_test)\n",
    "accuracy7 = accuracy_score(labels_test,pred7)\n",
    "print accuracy7"
   ]
  },
  {
   "cell_type": "markdown",
   "metadata": {},
   "source": [
    "# Using full training set with optimized C value of the RBF Kernel"
   ]
  },
  {
   "cell_type": "code",
   "execution_count": 20,
   "metadata": {},
   "outputs": [
    {
     "name": "stdout",
     "output_type": "stream",
     "text": [
      "0.990898748578\n"
     ]
    }
   ],
   "source": [
    "clf8 = SVC(C=10000.0)\n",
    "clf8.fit(features_train, labels_train)\n",
    "pred8 = clf8.predict(features_test)\n",
    "accuracy8 = accuracy_score(labels_test,pred8)\n",
    "print accuracy8"
   ]
  },
  {
   "cell_type": "code",
   "execution_count": 21,
   "metadata": {},
   "outputs": [
    {
     "name": "stdout",
     "output_type": "stream",
     "text": [
      "1\n",
      "0\n",
      "1\n"
     ]
    }
   ],
   "source": [
    "print pred8[10]\n",
    "print pred8[26]\n",
    "print pred8[50]"
   ]
  },
  {
   "cell_type": "markdown",
   "metadata": {},
   "source": [
    "# No. of Chris emails"
   ]
  },
  {
   "cell_type": "code",
   "execution_count": 23,
   "metadata": {},
   "outputs": [
    {
     "data": {
      "text/plain": [
       "Counter({0: 881, 1: 877})"
      ]
     },
     "execution_count": 23,
     "metadata": {},
     "output_type": "execute_result"
    }
   ],
   "source": [
    "import collections\n",
    "collections.Counter(pred8)"
   ]
  }
 ],
 "metadata": {
  "kernelspec": {
   "display_name": "Python 2",
   "language": "python",
   "name": "python2"
  },
  "language_info": {
   "codemirror_mode": {
    "name": "ipython",
    "version": 2
   },
   "file_extension": ".py",
   "mimetype": "text/x-python",
   "name": "python",
   "nbconvert_exporter": "python",
   "pygments_lexer": "ipython2",
   "version": "2.7.12"
  }
 },
 "nbformat": 4,
 "nbformat_minor": 2
}
